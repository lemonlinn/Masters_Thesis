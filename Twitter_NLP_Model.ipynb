{
 "cells": [
  {
   "cell_type": "markdown",
   "metadata": {},
   "source": [
    "# Attempting a traditional NLP ML Model"
   ]
  },
  {
   "cell_type": "markdown",
   "metadata": {},
   "source": [
    "## Set Up and Imports"
   ]
  },
  {
   "cell_type": "code",
   "execution_count": 26,
   "metadata": {},
   "outputs": [],
   "source": [
    "# import general packages\n",
    "\n",
    "from datetime import date\n",
    "import pandas as pd\n",
    "import numpy as np\n",
    "import tweepy\n",
    "import config\n",
    "import matplotlib.pyplot as plt\n",
    "import seaborn as sns; sns.set()\n",
    "import flatten_json as fj\n",
    "\n",
    "# import text packages\n",
    "\n",
    "import re\n",
    "import nltk\n",
    "from nltk.corpus import stopwords, wordnet\n",
    "from nltk.stem import WordNetLemmatizer, PorterStemmer\n",
    "from nltk.tokenize import word_tokenize \n",
    "stop_words = set(stopwords.words('english')) \n",
    "from sklearn.feature_extraction.text import ENGLISH_STOP_WORDS, CountVectorizer, TfidfVectorizer\n",
    "\n",
    "# import ML classifier packages\n",
    "\n",
    "from sklearn.ensemble import RandomForestClassifier\n",
    "from sklearn.linear_model import LogisticRegression\n",
    "from sklearn.neighbors import KNeighborsClassifier\n",
    "from sklearn.svm import SVC\n",
    "from sklearn.decomposition import PCA\n",
    "from sklearn.model_selection import GridSearchCV, train_test_split\n",
    "from sklearn.metrics import roc_auc_score, confusion_matrix"
   ]
  },
  {
   "cell_type": "code",
   "execution_count": 2,
   "metadata": {},
   "outputs": [],
   "source": [
    "# set up connection to api\n",
    "\n",
    "auth = tweepy.OAuthHandler(config.ckey, config.csecret)\n",
    "auth.set_access_token(config.atoken, config.asecret)\n",
    "\n",
    "api = tweepy.API(auth, wait_on_rate_limit=True, wait_on_rate_limit_notify=True)"
   ]
  },
  {
   "cell_type": "markdown",
   "metadata": {},
   "source": [
    "## Define functions"
   ]
  },
  {
   "cell_type": "code",
   "execution_count": 3,
   "metadata": {},
   "outputs": [],
   "source": [
    "# cleaning function for tweets\n",
    "\n",
    "def kleenex(var):\n",
    "        #clean_tweet = []\n",
    "        #for var in list_in:\n",
    "        tmp = re.sub('(https://t.co/).*', ' ', var)\n",
    "        tmp = re.sub('@.+?\\s', ' ', tmp)\n",
    "        tmp = re.sub('[^a-zA-Z]+', ' ', tmp)\n",
    "        #tmp = re.sub('^(RT)', ' ', tmp)\n",
    "        tmp = tmp.lower()\n",
    "        tmp = re.sub('(vaccinesafety)', ' ', tmp)\n",
    "        tmp = re.sub('(medicalfreedom)', ' ', tmp)\n",
    "        tmp = re.sub('(vaccineswork)', ' ', tmp)\n",
    "        tmp = re.sub('(vaccinessavelives)', ' ', tmp)\n",
    "        #tmp = [word for word in tmp.split() if word not in stop_words]\n",
    "        #tmp = ' '.join(tmp)\n",
    "            #clean_tweet.append(tmp)\n",
    "        return(tmp) #used to be clean_tweet"
   ]
  },
  {
   "cell_type": "code",
   "execution_count": 147,
   "metadata": {},
   "outputs": [],
   "source": [
    "# function from https://stackoverflow.com/a/41919739/12065631\n",
    "# I switched it up a bit to exclude RTs\n",
    "\n",
    "def get_tweets(query, n):\n",
    "    _max_queries = 1000000  # arbitrarily chosen value\n",
    "    query = query + \" -filter:retweets\"\n",
    "\n",
    "    tweets = tweet_batch = api.search(q = query, count = n, tweet_mode = \"extended\")\n",
    "    final_list = []\n",
    "    for status in tweet_batch:\n",
    "        final_list.append(kleenex(status.full_text))  \n",
    "    #tweets.extend(tweet_batch)\n",
    "    \n",
    "    ct = 1\n",
    "    while len(tweets) < n and ct < _max_queries:\n",
    "        #print(len(tweets))\n",
    "        tweet_batch = api.search(q=query, \n",
    "                                 count=n - len(tweets),\n",
    "                                 max_id=tweet_batch.max_id,\n",
    "                                 tweet_mode = \"extended\")\n",
    "        for status in tweet_batch:\n",
    "            final_list.append(kleenex(status.full_text))\n",
    "        tweets.extend(tweet_batch)\n",
    "        ct += 1\n",
    "        \n",
    "    return final_list"
   ]
  },
  {
   "cell_type": "code",
   "execution_count": 4,
   "metadata": {},
   "outputs": [],
   "source": [
    "# POS tagger for lemmatization\n",
    "\n",
    "def get_pos(word):\n",
    "        tag = nltk.pos_tag([word])[0][1][0].upper()\n",
    "        tag_dict = {\"J\": wordnet.ADJ,\n",
    "                    \"N\": wordnet.NOUN,\n",
    "                    \"V\": wordnet.VERB,\n",
    "                    \"R\": wordnet.ADV}\n",
    "\n",
    "        return tag_dict.get(tag, wordnet.NOUN)"
   ]
  },
  {
   "cell_type": "code",
   "execution_count": 5,
   "metadata": {},
   "outputs": [],
   "source": [
    "# PCA reduction with min dimensions (didn't end up using)\n",
    "\n",
    "def iterate_var(my_xform_tfidf_in, var_target, data_slice):\n",
    "        \"\"\"PCA using smallest possible # of components to hit target EVR\"\"\"\n",
    "        print(\"Dimension reduction in progress! One moment, please!\")\n",
    "        var_fig = 0.0\n",
    "        cnt = 1\n",
    "        while var_fig <= var_target:\n",
    "            pca = PCA(n_components=cnt)\n",
    "            my_dim = pca.fit_transform(my_xform_tfidf_in[0:data_slice])\n",
    "            var_fig = sum(pca.explained_variance_ratio_)   \n",
    "            cnt += 1\n",
    "        pca = PCA(n_components=cnt)\n",
    "        my_dim = pca.fit_transform(my_xform_tfidf_in)\n",
    "\n",
    "        return(my_dim, pca)"
   ]
  },
  {
   "cell_type": "markdown",
   "metadata": {},
   "source": [
    "## Collect test/train data"
   ]
  },
  {
   "cell_type": "code",
   "execution_count": 84,
   "metadata": {},
   "outputs": [],
   "source": [
    "# majority antivaxx hashtags: #medicalfreedom, #vaccinesafety\n",
    "# majority provaxx hashtags: #vaccineswork, #vaccinessavelives\n",
    "# NOTE: result_type = 'popular' majorly limits pull\n",
    "\n",
    "#test = api.search(\"#medicalfreedom\", lang = 'en', result_type = 'popular', count = 100)\n",
    "#medicalfreedom = []\n",
    "#vaccinesafety = []\n",
    "#vaccineswork = []\n",
    "#vaccinessavelives = []\n",
    "\n",
    "#for status in tweepy.Cursor(api.search, q = '#medicalfreedom', lang = 'en', tweet_mode = 'extended', count = 100).items(100):\n",
    "#    if not hasattr(status, 'retweeted_status'):\n",
    "#        medicalfreedom.append(kleenex(status.full_text))\n",
    "\n",
    "#for status in tweepy.Cursor(api.search, q = '#vaccinesafety', lang = 'en', tweet_mode = 'extended', count = 100).items(100):\n",
    "#    if not hasattr(status, 'retweeted_status'):\n",
    "#        vaccinesafety.append(kleenex(status.full_text))\n",
    "    #except AttributeError:\n",
    "        #vaccinesafety.append(kleenex(status.retweeted_status.full_text))\n",
    "\n",
    "#for status in tweepy.Cursor(api.search, q = '#vaccineswork', lang = 'en', tweet_mode = 'extended', count = 100).items(100):\n",
    "#    if not hasattr(status, 'retweeted_status'):\n",
    "#        vaccineswork.append(kleenex(status.full_text))\n",
    "        \n",
    "#for status in tweepy.Cursor(api.search, q = '#vaccinessavelives', lang = 'en', tweet_mode = 'extended', count = 100).items(100):\n",
    "#    if not hasattr(status, 'retweeted_status'):\n",
    "#        vaccinessavelives.append(kleenex(status.full_text))"
   ]
  },
  {
   "cell_type": "code",
   "execution_count": 126,
   "metadata": {},
   "outputs": [
    {
     "name": "stdout",
     "output_type": "stream",
     "text": [
      "200\n",
      "200\n",
      "200\n",
      "200\n"
     ]
    }
   ],
   "source": [
    "# majority antivaxx hashtags: #medicalfreedom, #vaccinesafety\n",
    "# majority provaxx hashtags: #vaccineswork, #vaccinessavelives\n",
    "\n",
    "medicalfreedom = get_tweets(\"#medicalfreedom\", 200)\n",
    "print(len(medicalfreedom))\n",
    "\n",
    "vaccinesafety = get_tweets(\"#vaccinesafety\", 200)\n",
    "print(len(vaccinesafety))\n",
    "\n",
    "vaccineswork = get_tweets(\"#vaccineswork\", 200)\n",
    "print(len(vaccineswork))\n",
    "\n",
    "vaccinessavelives = get_tweets(\"#vaccinessavelives\", 200)\n",
    "print(len(vaccinessavelives))"
   ]
  },
  {
   "cell_type": "code",
   "execution_count": 127,
   "metadata": {},
   "outputs": [],
   "source": [
    "# basic dataframe of text and label\n",
    "# NOTE: 1 == 'antivaxx' and 0 == 'provaxx'\n",
    "\n",
    "d_anti = pd.DataFrame({\"text\": medicalfreedom + vaccinesafety, \"label\": 1})\n",
    "d_pro = pd.DataFrame({\"text\": vaccineswork + vaccinessavelives, \"label\": 0})\n",
    "\n",
    "d = pd.concat([d_anti, d_pro])"
   ]
  },
  {
   "cell_type": "code",
   "execution_count": 128,
   "metadata": {},
   "outputs": [
    {
     "name": "stdout",
     "output_type": "stream",
     "text": [
      "                                                text  label\n",
      "0     what is your position on   and parentalrights       1\n",
      "1           do they all defend parentalrights and         1\n",
      "2   know your state vaccine exemptions how to opt...      1\n",
      "3  guarantee amp protect   and informedconsent an...      1\n",
      "4              notsafeoreffective exposebillgates         1\n",
      "                                                  text  label\n",
      "395  the waning of the anti vaccination movement an...      0\n",
      "396  what vaccines should senior citizens receive h...      0\n",
      "397  watching a video about hpv and cervicalcancer ...      0\n",
      "398  the ausvaxsafety summary report has been relea...      0\n",
      "399             vaccinesaretheanswer thankyouvaccines       0\n",
      "800\n"
     ]
    }
   ],
   "source": [
    "# sanity checkkkkk\n",
    "\n",
    "print(d.head())\n",
    "print(d.tail())\n",
    "print(len(d))"
   ]
  },
  {
   "cell_type": "code",
   "execution_count": 129,
   "metadata": {},
   "outputs": [],
   "source": [
    "# stem and lemma (with or without stop words)\n",
    "\n",
    "stemmer = PorterStemmer()\n",
    "lemmer = WordNetLemmatizer()\n",
    "\n",
    "lemma = []\n",
    "stem = []\n",
    "lemma_sw = []\n",
    "stem_sw = []\n",
    "\n",
    "for com in d.text:\n",
    "    tokenwrd = word_tokenize(com)\n",
    "    tmp = [stemmer.stem(wrd) for wrd in tokenwrd]\n",
    "    tmp2 = [lemmer.lemmatize(wrd, get_pos(wrd)) for wrd in tokenwrd]\n",
    "    tmp3 = [stemmer.stem(wrd) for wrd in tokenwrd if wrd not in stop_words]\n",
    "    tmp4 = [lemmer.lemmatize(wrd, get_pos(wrd)) for wrd in tokenwrd if wrd not in stop_words]\n",
    "    stem.append(\" \".join(tmp))\n",
    "    lemma.append(\" \".join(tmp2))\n",
    "    stem_sw.append(\" \".join(tmp3))\n",
    "    lemma_sw.append(\" \".join(tmp4))\n",
    "    #stem.append(tmp)\n",
    "    #lemma.append(tmp2)\n",
    "    #stem_sw.append(tmp3)\n",
    "    #lemma_sw.append(tmp4)\n",
    "    \n",
    "d[\"stem_sw\"] = stem_sw\n",
    "d[\"lemma_sw\"] = lemma_sw\n",
    "d['stem'] = stem\n",
    "d['lemma'] = lemma"
   ]
  },
  {
   "cell_type": "code",
   "execution_count": 130,
   "metadata": {},
   "outputs": [],
   "source": [
    "# Chop into test/train\n",
    "X = d.loc[:,d.columns != \"label\"]\n",
    "y = d[\"label\"]\n",
    "\n",
    "X_train, X_test, y_train, y_test = train_test_split(X, y, random_state=42)"
   ]
  },
  {
   "cell_type": "code",
   "execution_count": 131,
   "metadata": {
    "scrolled": true
   },
   "outputs": [],
   "source": [
    "# vectorizing and n-grams for training datasets\n",
    "\n",
    "count_vec = CountVectorizer()\n",
    "tfidf_vec = TfidfVectorizer()\n",
    "count_vec2 = CountVectorizer(ngram_range = (1,2))\n",
    "tfidf_vec2 = TfidfVectorizer(ngram_range = (1,2))\n",
    "\n",
    "# stop words removed and 1:1-gram\n",
    "\n",
    "count_stem_sw_Xtrain = count_vec.fit_transform(X_train[\"stem_sw\"])\n",
    "count_stem_sw_Xtest = count_vec.transform(X_test[\"stem_sw\"])\n",
    "count_lemma_sw_Xtrain = count_vec.fit_transform(X_train[\"lemma_sw\"])\n",
    "count_lemma_sw_Xtest = count_vec.transform(X_test[\"lemma_sw\"])\n",
    "tfidf_stem_sw_Xtrain = tfidf_vec.fit_transform(X_train[\"stem_sw\"])\n",
    "tfidf_stem_sw_Xtest = tfidf_vec.transform(X_test[\"stem_sw\"])\n",
    "tfidf_lemma_sw_Xtrain = tfidf_vec.fit_transform(X_train[\"lemma_sw\"])\n",
    "tfidf_lemma_sw_Xtest = tfidf_vec.transform(X_test[\"lemma_sw\"])\n",
    "\n",
    "# stop words included and 1:2-gram\n",
    "\n",
    "count_stem_2gram_Xtrain = count_vec2.fit_transform(X_train[\"stem\"])\n",
    "count_stem_2gram_Xtest = count_vec2.transform(X_test[\"stem\"])\n",
    "count_lemma_2gram_Xtrain = count_vec2.fit_transform(X_train[\"lemma\"])\n",
    "count_lemma_2gram_Xtest = count_vec2.transform(X_test[\"lemma\"])\n",
    "tfidf_stem_2gram_Xtrain = tfidf_vec2.fit_transform(X_train[\"stem\"])\n",
    "tfidf_stem_2gram_Xtest = tfidf_vec2.transform(X_test[\"stem\"])\n",
    "tfidf_lemma_2gram_Xtrain = tfidf_vec2.fit_transform(X_train[\"lemma\"])\n",
    "tfidf_lemma_2gram_Xtest = tfidf_vec2.transform(X_test[\"lemma\"])\n"
   ]
  },
  {
   "cell_type": "markdown",
   "metadata": {},
   "source": [
    "## K-Nearest Neighbors Models"
   ]
  },
  {
   "cell_type": "code",
   "execution_count": 132,
   "metadata": {},
   "outputs": [
    {
     "name": "stdout",
     "output_type": "stream",
     "text": [
      "count stem sw accuracy: 0.69\n",
      "count stem 2gram accuracy: 0.69\n",
      "count lemma sw accuracy: 0.69\n",
      "count lemma 2gram accuracy: 0.67\n",
      "tfidf stem sw accuracy: 0.69\n",
      "tfidf stem 2gram accuracy: 0.73\n",
      "tfidf lemma sw accuracy: 0.69\n",
      "tfidf lemma 2gram accuracy: 0.68\n"
     ]
    }
   ],
   "source": [
    "# basic models (no grid search)\n",
    "\n",
    "knn = KNeighborsClassifier()\n",
    "knn.fit(count_stem_sw_Xtrain, y_train)\n",
    "print(\"count stem sw accuracy: {:.2f}\".format(knn.score(count_stem_sw_Xtest, y_test)))\n",
    "\n",
    "knn.fit(count_stem_2gram_Xtrain, y_train)\n",
    "print(\"count stem 2gram accuracy: {:.2f}\".format(knn.score(count_stem_2gram_Xtest, y_test)))\n",
    "\n",
    "knn.fit(count_lemma_sw_Xtrain, y_train)\n",
    "print(\"count lemma sw accuracy: {:.2f}\".format(knn.score(count_lemma_sw_Xtest, y_test)))\n",
    "\n",
    "knn.fit(count_lemma_2gram_Xtrain, y_train)\n",
    "print(\"count lemma 2gram accuracy: {:.2f}\".format(knn.score(count_lemma_2gram_Xtest, y_test)))\n",
    "\n",
    "knn.fit(tfidf_stem_sw_Xtrain, y_train)\n",
    "print(\"tfidf stem sw accuracy: {:.2f}\".format(knn.score(tfidf_stem_sw_Xtest, y_test)))\n",
    "\n",
    "knn.fit(tfidf_stem_2gram_Xtrain, y_train)\n",
    "print(\"tfidf stem 2gram accuracy: {:.2f}\".format(knn.score(tfidf_stem_2gram_Xtest, y_test)))\n",
    "\n",
    "knn.fit(tfidf_lemma_sw_Xtrain, y_train)\n",
    "print(\"tfidf lemma sw accuracy: {:.2f}\".format(knn.score(tfidf_lemma_sw_Xtest, y_test)))\n",
    "\n",
    "knn.fit(tfidf_lemma_2gram_Xtrain, y_train)\n",
    "print(\"tfidf lemma 2gram accuracy: {:.2f}\".format(knn.score(tfidf_lemma_2gram_Xtest, y_test)))"
   ]
  },
  {
   "cell_type": "code",
   "execution_count": 72,
   "metadata": {},
   "outputs": [
    {
     "name": "stdout",
     "output_type": "stream",
     "text": [
      "best mean cross-validation accuracy: 0.886\n",
      "all cross-validation f1-scores: [0.19779842 0.19779842 0.53698818 0.55123705 0.43028977 0.46227175\n",
      " 0.38432772 0.43431342 0.34291134 0.40164906 0.30485994 0.35859435\n",
      " 0.26135023 0.32189363 0.23692565 0.3031594  0.18359231 0.25556512\n",
      " 0.15532164 0.22916654]\n",
      "best parameters: {'n_neighbors': 3, 'weights': 'distance'}\n",
      "test-set accuracy: 0.865\n"
     ]
    }
   ],
   "source": [
    "# KNN grid search using most accurate simple model\n",
    "# NOTE: Winner is tfidf lemma 2gram: 0.83 accuracy\n",
    "\n",
    "met_grid= ['accuracy', 'f1']\n",
    "\n",
    "knn_params = {\"n_neighbors\": np.arange(1, 21, 2),\n",
    "             \"weights\": [\"uniform\", \"distance\"]}\n",
    "knn_grid = GridSearchCV(KNeighborsClassifier(), param_grid = knn_params, cv = 10, scoring = met_grid, \n",
    "                       refit = 'accuracy', return_train_score = True)\n",
    "knn_grid.fit(tfidf_lemma_2gram_Xtrain, y_train)\n",
    "\n",
    "print(\"best mean cross-validation accuracy: {:.3f}\".format(knn_grid.best_score_))\n",
    "print(\"all cross-validation f1-scores: {}\".format(knn_grid.cv_results_['mean_test_f1']))\n",
    "print(\"best parameters: {}\".format(knn_grid.best_params_))\n",
    "print(\"test-set accuracy: {:.3f}\".format(knn_grid.score(tfidf_lemma_2gram_Xtest, y_test)))"
   ]
  },
  {
   "cell_type": "markdown",
   "metadata": {},
   "source": [
    "## Random Forest Models"
   ]
  },
  {
   "cell_type": "code",
   "execution_count": 133,
   "metadata": {},
   "outputs": [
    {
     "name": "stdout",
     "output_type": "stream",
     "text": [
      "count stem sw accuracy: 0.88\n",
      "count stem 2gram accuracy: 0.90\n",
      "count lemma sw accuracy: 0.89\n",
      "count lemma 2gram accuracy: 0.90\n",
      "tfidf stem sw accuracy: 0.89\n",
      "tfidf stem 2gram accuracy: 0.85\n",
      "tfidf lemma sw accuracy: 0.88\n",
      "tfidf lemma 2gram accuracy: 0.86\n"
     ]
    }
   ],
   "source": [
    "# basic models (no grid search)\n",
    "\n",
    "rfc = RandomForestClassifier(random_state=42)\n",
    "rfc.fit(count_stem_sw_Xtrain, y_train)\n",
    "print(\"count stem sw accuracy: {:.2f}\".format(rfc.score(count_stem_sw_Xtest, y_test)))\n",
    "\n",
    "rfc.fit(count_stem_2gram_Xtrain, y_train)\n",
    "print(\"count stem 2gram accuracy: {:.2f}\".format(rfc.score(count_stem_2gram_Xtest, y_test)))\n",
    "\n",
    "rfc.fit(count_lemma_sw_Xtrain, y_train)\n",
    "print(\"count lemma sw accuracy: {:.2f}\".format(rfc.score(count_lemma_sw_Xtest, y_test)))\n",
    "\n",
    "rfc.fit(count_lemma_2gram_Xtrain, y_train)\n",
    "print(\"count lemma 2gram accuracy: {:.2f}\".format(rfc.score(count_lemma_2gram_Xtest, y_test)))\n",
    "\n",
    "rfc.fit(tfidf_stem_sw_Xtrain, y_train)\n",
    "print(\"tfidf stem sw accuracy: {:.2f}\".format(rfc.score(tfidf_stem_sw_Xtest, y_test)))\n",
    "\n",
    "rfc.fit(tfidf_stem_2gram_Xtrain, y_train)\n",
    "print(\"tfidf stem 2gram accuracy: {:.2f}\".format(rfc.score(tfidf_stem_2gram_Xtest, y_test)))\n",
    "\n",
    "rfc.fit(tfidf_lemma_sw_Xtrain, y_train)\n",
    "print(\"tfidf lemma sw accuracy: {:.2f}\".format(rfc.score(tfidf_lemma_sw_Xtest, y_test)))\n",
    "\n",
    "rfc.fit(tfidf_lemma_2gram_Xtrain, y_train)\n",
    "print(\"tfidf lemma 2gram accuracy: {:.2f}\".format(rfc.score(tfidf_lemma_2gram_Xtest, y_test)))"
   ]
  },
  {
   "cell_type": "code",
   "execution_count": 134,
   "metadata": {},
   "outputs": [
    {
     "name": "stdout",
     "output_type": "stream",
     "text": [
      "best mean cross-validation accuracy: 0.882\n",
      "all cross-validation f1-scores: [0.83712715 0.8586485  0.86740329 0.86003114 0.86953559 0.86591737\n",
      " 0.86102624 0.8650257  0.87035623 0.86930985 0.85891116 0.87034456\n",
      " 0.87216902 0.86558736 0.86555002 0.86522737 0.86273449 0.86510289\n",
      " 0.86597    0.86969475]\n",
      "best parameters: {'criterion': 'gini', 'n_estimators': 50, 'random_state': 42}\n",
      "test-set accuracy: 0.880\n"
     ]
    }
   ],
   "source": [
    "# grid search\n",
    "#NOTE: winner is tfidf lemma sw: 0.89 (tied with tfidf stem sw)\n",
    "\n",
    "rfc_params = {\"n_estimators\": np.arange(10, 101, 10),\n",
    "             #\"max_depth\": np.arange(1, 11, 1),\n",
    "             #\"max_features\": np.arange(1, 11, 1),\n",
    "             \"criterion\": [\"gini\", \"entropy\"],\n",
    "             \"random_state\": [42]}\n",
    "rfc_grid = GridSearchCV(RandomForestClassifier(), param_grid = rfc_params, cv = 10, scoring = met_grid, \n",
    "                       refit = 'accuracy', return_train_score = True)\n",
    "rfc_grid.fit(tfidf_lemma_sw_Xtrain, y_train)\n",
    "\n",
    "print(\"best mean cross-validation accuracy: {:.3f}\".format(rfc_grid.best_score_))\n",
    "print(\"all cross-validation f1-scores: {}\".format(rfc_grid.cv_results_['mean_test_f1']))\n",
    "print(\"best parameters: {}\".format(rfc_grid.best_params_))\n",
    "print(\"test-set accuracy: {:.3f}\".format(rfc_grid.score(tfidf_lemma_sw_Xtest, y_test)))"
   ]
  },
  {
   "cell_type": "markdown",
   "metadata": {},
   "source": [
    "## Support Vector Models"
   ]
  },
  {
   "cell_type": "code",
   "execution_count": 135,
   "metadata": {},
   "outputs": [
    {
     "name": "stdout",
     "output_type": "stream",
     "text": [
      "count stem sw accuracy: 0.86\n",
      "count stem 2gram accuracy: 0.82\n",
      "count lemma sw accuracy: 0.85\n",
      "count lemma 2gram accuracy: 0.83\n",
      "tfidf stem sw accuracy: 0.91\n",
      "tfidf stem 2gram accuracy: 0.90\n",
      "tfidf lemma sw accuracy: 0.91\n",
      "tfidf lemma 2gram accuracy: 0.89\n"
     ]
    }
   ],
   "source": [
    "# basic models (no grid search)\n",
    "\n",
    "svc = SVC(random_state=42)\n",
    "svc.fit(count_stem_sw_Xtrain, y_train)\n",
    "print(\"count stem sw accuracy: {:.2f}\".format(svc.score(count_stem_sw_Xtest, y_test)))\n",
    "\n",
    "svc.fit(count_stem_2gram_Xtrain, y_train)\n",
    "print(\"count stem 2gram accuracy: {:.2f}\".format(svc.score(count_stem_2gram_Xtest, y_test)))\n",
    "\n",
    "svc.fit(count_lemma_sw_Xtrain, y_train)\n",
    "print(\"count lemma sw accuracy: {:.2f}\".format(svc.score(count_lemma_sw_Xtest, y_test)))\n",
    "\n",
    "svc.fit(count_lemma_2gram_Xtrain, y_train)\n",
    "print(\"count lemma 2gram accuracy: {:.2f}\".format(svc.score(count_lemma_2gram_Xtest, y_test)))\n",
    "\n",
    "svc.fit(tfidf_stem_sw_Xtrain, y_train)\n",
    "print(\"tfidf stem sw accuracy: {:.2f}\".format(svc.score(tfidf_stem_sw_Xtest, y_test)))\n",
    "\n",
    "svc.fit(tfidf_stem_2gram_Xtrain, y_train)\n",
    "print(\"tfidf stem 2gram accuracy: {:.2f}\".format(svc.score(tfidf_stem_2gram_Xtest, y_test)))\n",
    "\n",
    "svc.fit(tfidf_lemma_sw_Xtrain, y_train)\n",
    "print(\"tfidf lemma sw accuracy: {:.2f}\".format(svc.score(tfidf_lemma_sw_Xtest, y_test)))\n",
    "\n",
    "svc.fit(tfidf_lemma_2gram_Xtrain, y_train)\n",
    "print(\"tfidf lemma 2gram accuracy: {:.2f}\".format(svc.score(tfidf_lemma_2gram_Xtest, y_test)))"
   ]
  },
  {
   "cell_type": "code",
   "execution_count": 136,
   "metadata": {},
   "outputs": [
    {
     "name": "stdout",
     "output_type": "stream",
     "text": [
      "best mean cross-validation accuracy: 0.915\n",
      "all cross-validation f1-scores: [0.66959707 0.66959707 0.66959707 0.66959707 0.66959707 0.66959707\n",
      " 0.66959707 0.66959707 0.66964702 0.79094372 0.67341787 0.78424446\n",
      " 0.89865409 0.91037909 0.69668234 0.90675695 0.91068506 0.87557706\n",
      " 0.67029121 0.88980084 0.91068506 0.86318337 0.66476777 0.86817699\n",
      " 0.91068506 0.86318337 0.66476777 0.86817699]\n",
      "best parameters: {'C': 10, 'kernel': 'rbf', 'random_state': 42}\n",
      "test-set accuracy: 0.905\n"
     ]
    }
   ],
   "source": [
    "# you guessed it, another grid search!\n",
    "# NOTE: winner is tfidf lemma sw: 0.88\n",
    "\n",
    "svc_params = {\"C\": [0.001, 0.01, 0.1, 1, 10, 100, 1000],\n",
    "             \"kernel\": [\"rbf\", \"linear\", \"poly\", \"sigmoid\"],\n",
    "             \"random_state\": [42]}\n",
    "svc_grid = GridSearchCV(SVC(), param_grid = svc_params, cv = 10, scoring = met_grid, \n",
    "                       refit = 'accuracy', return_train_score = True)\n",
    "svc_grid.fit(tfidf_lemma_sw_Xtrain, y_train)\n",
    "\n",
    "print(\"best mean cross-validation accuracy: {:.3f}\".format(svc_grid.best_score_))\n",
    "print(\"all cross-validation f1-scores: {}\".format(svc_grid.cv_results_['mean_test_f1']))\n",
    "print(\"best parameters: {}\".format(svc_grid.best_params_))\n",
    "print(\"test-set accuracy: {:.3f}\".format(svc_grid.score(tfidf_lemma_sw_Xtest, y_test)))"
   ]
  },
  {
   "cell_type": "markdown",
   "metadata": {},
   "source": [
    "## Logistic Regression Models"
   ]
  },
  {
   "cell_type": "code",
   "execution_count": 139,
   "metadata": {},
   "outputs": [
    {
     "name": "stdout",
     "output_type": "stream",
     "text": [
      "count stem sw accuracy: 0.89\n",
      "count stem 2gram accuracy: 0.86\n",
      "count lemma sw accuracy: 0.89\n",
      "count lemma 2gram accuracy: 0.87\n",
      "tfidf stem sw accuracy: 0.90\n",
      "tfidf stem 2gram accuracy: 0.88\n",
      "tfidf lemma sw accuracy: 0.90\n",
      "tfidf lemma 2gram accuracy: 0.88\n"
     ]
    }
   ],
   "source": [
    "# basic penalized (l2) logistic regression\n",
    "\n",
    "logreg = LogisticRegression(random_state=42)\n",
    "logreg.fit(count_stem_sw_Xtrain, y_train)\n",
    "print(\"count stem sw accuracy: {:.2f}\".format(logreg.score(count_stem_sw_Xtest, y_test)))\n",
    "\n",
    "logreg.fit(count_stem_2gram_Xtrain, y_train)\n",
    "print(\"count stem 2gram accuracy: {:.2f}\".format(logreg.score(count_stem_2gram_Xtest, y_test)))\n",
    "\n",
    "logreg.fit(count_lemma_sw_Xtrain, y_train)\n",
    "print(\"count lemma sw accuracy: {:.2f}\".format(logreg.score(count_lemma_sw_Xtest, y_test)))\n",
    "\n",
    "logreg.fit(count_lemma_2gram_Xtrain, y_train)\n",
    "print(\"count lemma 2gram accuracy: {:.2f}\".format(logreg.score(count_lemma_2gram_Xtest, y_test)))\n",
    "\n",
    "logreg.fit(tfidf_stem_sw_Xtrain, y_train)\n",
    "print(\"tfidf stem sw accuracy: {:.2f}\".format(logreg.score(tfidf_stem_sw_Xtest, y_test)))\n",
    "\n",
    "logreg.fit(tfidf_stem_2gram_Xtrain, y_train)\n",
    "print(\"tfidf stem 2gram accuracy: {:.2f}\".format(logreg.score(tfidf_stem_2gram_Xtest, y_test)))\n",
    "\n",
    "logreg.fit(tfidf_lemma_sw_Xtrain, y_train)\n",
    "print(\"tfidf lemma sw accuracy: {:.2f}\".format(logreg.score(tfidf_lemma_sw_Xtest, y_test)))\n",
    "\n",
    "logreg.fit(tfidf_lemma_2gram_Xtrain, y_train)\n",
    "print(\"tfidf lemma 2gram accuracy: {:.2f}\".format(logreg.score(tfidf_lemma_2gram_Xtest, y_test)))"
   ]
  },
  {
   "cell_type": "code",
   "execution_count": 140,
   "metadata": {},
   "outputs": [
    {
     "name": "stdout",
     "output_type": "stream",
     "text": [
      "best mean cross-validation accuracy: 0.917\n",
      "all cross-validation f1-scores: [0.84400243 0.84185957 0.91467743 0.91314738 0.88378556 0.8801941\n",
      " 0.90775765 0.9096167  0.87553377 0.89656252 0.89992349 0.9016644\n",
      " 0.88987506 0.9016644  0.89552611 0.89866542]\n",
      "best parameters: {'C': 1, 'max_iter': 100000, 'penalty': 'l2', 'random_state': 42, 'solver': 'liblinear'}\n",
      "test-set accuracy: 0.890\n"
     ]
    }
   ],
   "source": [
    "# yet more grid searching\n",
    "#NOTE: winner is count lemma sw: 0.89\n",
    "\n",
    "logreg_params = {\"C\": [1, 10, 100, 1000],\n",
    "             \"penalty\": [\"l1\", \"l2\"],\n",
    "             \"solver\": [\"liblinear\", \"saga\"],\n",
    "             \"max_iter\": [100000],\n",
    "             \"random_state\": [42]}\n",
    "logreg_grid = GridSearchCV(LogisticRegression(), param_grid = logreg_params, cv = 10, scoring = met_grid, \n",
    "                       refit = 'accuracy', return_train_score = True)\n",
    "logreg_grid.fit(count_lemma_sw_Xtrain, y_train)\n",
    "\n",
    "print(\"best mean cross-validation accuracy: {:.3f}\".format(logreg_grid.best_score_))\n",
    "print(\"all cross-validation f1-scores: {}\".format(logreg_grid.cv_results_['mean_test_f1']))\n",
    "print(\"best parameters: {}\".format(logreg_grid.best_params_))\n",
    "print(\"test-set accuracy: {:.3f}\".format(logreg_grid.score(count_lemma_sw_Xtest, y_test)))"
   ]
  },
  {
   "cell_type": "markdown",
   "metadata": {},
   "source": [
    "## Data Visualizations (Heatmaps)"
   ]
  },
  {
   "cell_type": "code",
   "execution_count": 141,
   "metadata": {},
   "outputs": [],
   "source": [
    "# heatmap prep (predictions)\n",
    "\n",
    "knn_ypred = KNeighborsClassifier(**knn_grid.best_params_).fit(tfidf_lemma_2gram_Xtrain, y_train).predict(tfidf_lemma_2gram_Xtest)\n",
    "rfc_ypred = RandomForestClassifier(**rfc_grid.best_params_).fit(tfidf_lemma_sw_Xtrain, y_train).predict(tfidf_lemma_sw_Xtest)\n",
    "svc_ypred = SVC(**svc_grid.best_params_).fit(tfidf_lemma_sw_Xtrain, y_train).predict(tfidf_lemma_sw_Xtest)\n",
    "logreg_ypred = LogisticRegression(**logreg_grid.best_params_).fit(count_lemma_sw_Xtrain, y_train).predict(count_lemma_sw_Xtest)"
   ]
  },
  {
   "cell_type": "code",
   "execution_count": 142,
   "metadata": {},
   "outputs": [
    {
     "data": {
      "text/plain": [
       "([<matplotlib.axis.YTick at 0x1c69e7d5708>,\n",
       "  <matplotlib.axis.YTick at 0x1c6a30b48c8>],\n",
       " <a list of 2 Text yticklabel objects>)"
      ]
     },
     "execution_count": 142,
     "metadata": {},
     "output_type": "execute_result"
    },
    {
     "data": {
      "image/png": "[encoded data removed]",
      "text/plain": [
       "<Figure size 432x288 with 2 Axes>"
      ]
     },
     "metadata": {},
     "output_type": "display_data"
    }
   ],
   "source": [
    "# knn heatmap\n",
    "\n",
    "mat = confusion_matrix(y_test, knn_ypred)\n",
    "sns.heatmap(mat, square=True, annot=True)\n",
    "plt.title(\"KNN Heatmap\")\n",
    "plt.xlabel('true label')\n",
    "plt.ylabel('predicted label')\n",
    "plt.xticks(ticks = [0.5,1.5], labels = [\"provaxx\", \"antivaxx\"])\n",
    "plt.yticks(ticks = [0.5,1.5], labels = [\"provaxx\", \"antivaxx\"], rotation = 0)"
   ]
  },
  {
   "cell_type": "code",
   "execution_count": 143,
   "metadata": {},
   "outputs": [
    {
     "data": {
      "text/plain": [
       "([<matplotlib.axis.YTick at 0x1c6a7762fc8>,\n",
       "  <matplotlib.axis.YTick at 0x1c6a0db9788>],\n",
       " <a list of 2 Text yticklabel objects>)"
      ]
     },
     "execution_count": 143,
     "metadata": {},
     "output_type": "execute_result"
    },
    {
     "data": {
      "image/png": "[encoded data removed]",
      "text/plain": [
       "<Figure size 432x288 with 2 Axes>"
      ]
     },
     "metadata": {},
     "output_type": "display_data"
    }
   ],
   "source": [
    "# rfc heatmap\n",
    "\n",
    "mat = confusion_matrix(y_test, rfc_ypred)\n",
    "sns.heatmap(mat, square=True, annot=True)\n",
    "plt.title(\"RFC Heatmap\")\n",
    "plt.xlabel('true label')\n",
    "plt.ylabel('predicted label')\n",
    "plt.xticks(ticks = [0.5,1.5], labels = [\"provaxx\", \"antivaxx\"])\n",
    "plt.yticks(ticks = [0.5,1.5], labels = [\"provaxx\", \"antivaxx\"], rotation = 0)"
   ]
  },
  {
   "cell_type": "code",
   "execution_count": 144,
   "metadata": {},
   "outputs": [
    {
     "data": {
      "text/plain": [
       "([<matplotlib.axis.YTick at 0x1c6a7780a08>,\n",
       "  <matplotlib.axis.YTick at 0x1c6a937d288>],\n",
       " <a list of 2 Text yticklabel objects>)"
      ]
     },
     "execution_count": 144,
     "metadata": {},
     "output_type": "execute_result"
    },
    {
     "data": {
      "image/png": "[encoded data removed]",
      "text/plain": [
       "<Figure size 432x288 with 2 Axes>"
      ]
     },
     "metadata": {},
     "output_type": "display_data"
    }
   ],
   "source": [
    "# svc heatmap\n",
    "\n",
    "mat = confusion_matrix(y_test, svc_ypred)\n",
    "sns.heatmap(mat, square=True, annot=True)\n",
    "plt.title(\"SVC Heatmap\")\n",
    "plt.xlabel('true label')\n",
    "plt.ylabel('predicted label')\n",
    "plt.xticks(ticks = [0.5,1.5], labels = [\"provaxx\", \"antivaxx\"])\n",
    "plt.yticks(ticks = [0.5,1.5], labels = [\"provaxx\", \"antivaxx\"], rotation = 0)"
   ]
  },
  {
   "cell_type": "code",
   "execution_count": 145,
   "metadata": {},
   "outputs": [
    {
     "data": {
      "text/plain": [
       "([<matplotlib.axis.YTick at 0x1c6a777f348>,\n",
       "  <matplotlib.axis.YTick at 0x1c6a77785c8>],\n",
       " <a list of 2 Text yticklabel objects>)"
      ]
     },
     "execution_count": 145,
     "metadata": {},
     "output_type": "execute_result"
    },
    {
     "data": {
      "image/png": "[encoded data removed]",
      "text/plain": [
       "<Figure size 432x288 with 2 Axes>"
      ]
     },
     "metadata": {},
     "output_type": "display_data"
    }
   ],
   "source": [
    "# logreg heatmap\n",
    "\n",
    "mat = confusion_matrix(y_test, logreg_ypred)\n",
    "sns.heatmap(mat, square=True, annot=True)\n",
    "plt.title(\"Logreg Heatmap\")\n",
    "plt.xlabel('true label')\n",
    "plt.ylabel('predicted label')\n",
    "plt.xticks(ticks = [0.5,1.5], labels = [\"provaxx\", \"antivaxx\"])\n",
    "plt.yticks(ticks = [0.5,1.5], labels = [\"provaxx\", \"antivaxx\"], rotation = 0)"
   ]
  },
  {
   "cell_type": "markdown",
   "metadata": {},
   "source": [
    "## write dataset to csv"
   ]
  },
  {
   "cell_type": "code",
   "execution_count": 146,
   "metadata": {},
   "outputs": [],
   "source": [
    "# sorry this is at the end, just thought of it lol\n",
    "\n",
    "now = str(date.today())\n",
    "\n",
    "d.to_csv(\"thesis_NLP_ML_data_{}.csv\".format(now), index = False)"
   ]
  },
  {
   "cell_type": "markdown",
   "metadata": {},
   "source": [
    "# Notes\n",
    "\n",
    "Looks good so far! Next steps might be...\n",
    "\n",
    "1. Test model on data that doesn't come from the initial scrape, ex. a new provaxx/antivaxx hashtag\n",
    "2. Consider expanding the test/train dataset to include more tweets (worried abt rate limiting)\n",
    "3. Fix incomplete node collection on target tweets\n",
    "4. Use model on nodes (I'm leaning towards the penalized logistic regression) before and after retweeting target tweet\n",
    "5. Consider if NLP should be on target tweet level and SNA should be on the pro/anti level?"
   ]
  }
 ],
 "metadata": {
  "kernelspec": {
   "display_name": "Python 3",
   "language": "python",
   "name": "python3"
  },
  "language_info": {
   "codemirror_mode": {
    "name": "ipython",
    "version": 3
   },
   "file_extension": ".py",
   "mimetype": "text/x-python",
   "name": "python",
   "nbconvert_exporter": "python",
   "pygments_lexer": "ipython3",
   "version": "3.7.7"
  }
 },
 "nbformat": 4,
 "nbformat_minor": 4
}
